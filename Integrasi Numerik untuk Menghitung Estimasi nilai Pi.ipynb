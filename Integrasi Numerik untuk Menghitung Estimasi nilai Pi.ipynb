{
 "cells": [
  {
   "cell_type": "markdown",
   "id": "1394ae62-7b5d-4a6c-8737-5d1e92f8c2eb",
   "metadata": {},
   "source": [
    "# Integrasi Numerik untuk Menghitung Estimasi nilai Pi\n",
    "## Metode Integrasi Reimann\n",
    "\n",
    "**Annas Tri Widagdo (21120122140112)**      \n",
    "**Course: Metode Numerik - (Kelas D)**      \n",
    "**Department of Computer Engineering**      \n",
    "**Diponegoro University**        "
   ]
  },
  {
   "cell_type": "code",
   "execution_count": 1,
   "id": "7c9b1605-19fa-4339-83da-572076f7b99f",
   "metadata": {},
   "outputs": [
    {
     "name": "stdout",
     "output_type": "stream",
     "text": [
      "N = 10\n",
      "Pi Reference = 3.141592653589793\n",
      "Pi Estimate = 3.2399259889071588\n",
      "RMS Error = 0.09833333531736566\n",
      "Execution Time = 0.0 seconds\n",
      "\n",
      "N = 100\n",
      "Pi Reference = 3.141592653589793\n",
      "Pi Estimate = 3.151575986923127\n",
      "RMS Error = 0.0099833333333339\n",
      "Execution Time = 0.0 seconds\n",
      "\n",
      "N = 1000\n",
      "Pi Reference = 3.141592653589793\n",
      "Pi Estimate = 3.142592486923122\n",
      "RMS Error = 0.000999833333328759\n",
      "Execution Time = 0.0 seconds\n",
      "\n",
      "N = 10000\n",
      "Pi Reference = 3.141592653589793\n",
      "Pi Estimate = 3.1416926519231168\n",
      "RMS Error = 9.99983333236365e-05\n",
      "Execution Time = 0.0 seconds\n",
      "\n"
     ]
    }
   ],
   "source": [
    "import numpy as np\n",
    "import time\n",
    "\n",
    "def riemann_integral(f, a, b, N):\n",
    "    delta_x = (b - a) / N\n",
    "    total_area = 0.0\n",
    "    for i in range(N):\n",
    "        x = a + i * delta_x\n",
    "        total_area += f(x) * delta_x\n",
    "    return total_area\n",
    "\n",
    "def f(x):\n",
    "    return 4 / (1 + x**2)\n",
    "\n",
    "# Nilai referensi pi\n",
    "pi_reference = 3.14159265358979323846\n",
    "\n",
    "# Variasi nilai N\n",
    "N_values = [10, 100, 1000, 10000]\n",
    "\n",
    "results = []\n",
    "\n",
    "for N in N_values:\n",
    "    start_time = time.time()\n",
    "    pi_estimate = riemann_integral(f, 0, 1, N)\n",
    "    end_time = time.time()\n",
    "    \n",
    "    rms_error = np.sqrt(np.mean((pi_estimate - pi_reference)**2))\n",
    "    execution_time = end_time - start_time\n",
    "    \n",
    "    results.append((N, pi_estimate, rms_error, execution_time))\n",
    "\n",
    "# Tampilkan hasil\n",
    "for result in results:\n",
    "    N, pi_estimate, rms_error, execution_time = result\n",
    "    print(f\"N = {N}\")\n",
    "    print (f\"Pi Reference = {pi_reference}\")\n",
    "    print(f\"Pi Estimate = {pi_estimate}\")\n",
    "    print(f\"RMS Error = {rms_error}\")\n",
    "    print(f\"Execution Time = {execution_time} seconds\\n\")"
   ]
  }
 ],
 "metadata": {
  "kernelspec": {
   "display_name": "Python 3 (ipykernel)",
   "language": "python",
   "name": "python3"
  },
  "language_info": {
   "codemirror_mode": {
    "name": "ipython",
    "version": 3
   },
   "file_extension": ".py",
   "mimetype": "text/x-python",
   "name": "python",
   "nbconvert_exporter": "python",
   "pygments_lexer": "ipython3",
   "version": "3.11.7"
  }
 },
 "nbformat": 4,
 "nbformat_minor": 5
}
